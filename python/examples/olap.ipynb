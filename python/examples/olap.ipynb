{
 "cells": [
  {
   "cell_type": "code",
   "execution_count": null,
   "metadata": {},
   "outputs": [],
   "source": [
    "from olap import *"
   ]
  },
  {
   "cell_type": "code",
   "execution_count": null,
   "metadata": {},
   "outputs": [],
   "source": [
    "tmp = generate_rows(10_000)\n",
    "arrow_array = dump_rows(tmp)\n",
    "recovered = parse_rows(arrow_array)\n",
    "recovered['time'] = pd.to_datetime(recovered['timestamps'], unit='s')\n",
    "\n",
    "# Using persistent store will be identical to using this\n",
    "# db = ukv.DataBase()\n",
    "# measurements = db.main\n",
    "measurements: dict[int, bytes] = {}\n",
    "cudf_df = cudf.from_pandas(recovered)\n",
    "cux_df = cux.DataFrame.from_dataframe(cudf_df)"
   ]
  },
  {
   "cell_type": "code",
   "execution_count": null,
   "metadata": {},
   "outputs": [],
   "source": [
    "MAPBOX_API_KEY = \"pk.eyJ1IjoiYXRob3J2ZSIsImEiOiJjazBmcmlhYzAwYXc2M25wMnE3bGttbzczIn0.JCDQliLc-XTU52iKa8L8-Q\"\n",
    "\n",
    "chart_map = charts.choropleth(\n",
    "    x='zips',\n",
    "    elevation_column='humans',\n",
    "    elevation_aggregate_fn='mean',\n",
    "    color_column='amounts',\n",
    "    color_aggregate_fn='mean',\n",
    "    mapbox_api_key=MAPBOX_API_KEY,\n",
    "    geoJSONSource=zip_codes_geojson_url,\n",
    "    title='ATM Withdrawals Across the US',\n",
    ")\n",
    "\n",
    "chart_humans = charts.bokeh.bar('humans')\n",
    "slider_time = charts.date_range_slider(\n",
    "    'time', \n",
    "    title='Timeframe',\n",
    ")\n",
    "overall_amounts = charts.number(\n",
    "    x='amounts', \n",
    "    aggregate_fn='sum', \n",
    "    format='${value:,.1f}', \n",
    "    title='Total Withdrawals',\n",
    ")\n",
    "overall_humans = charts.number(\n",
    "    x='humans', \n",
    "    aggregate_fn='sum', \n",
    "    format='{value:,.0f}', \n",
    "    title='Humans Detected',\n",
    ")\n",
    "\n",
    "d = cux_df.dashboard(\n",
    "    [chart_map],\n",
    "    layout_array=[[1]],\n",
    "    sidebar=[slider_time, overall_amounts, overall_humans],\n",
    "    theme=cux.themes.rapids,\n",
    "    title='Map of ATMs',\n",
    ")\n",
    "\n",
    "d.app()"
   ]
  }
 ],
 "metadata": {
  "kernelspec": {
   "display_name": "Python 3.9.15 ('ukv-olap')",
   "language": "python",
   "name": "python3"
  },
  "language_info": {
   "codemirror_mode": {
    "name": "ipython",
    "version": 3
   },
   "file_extension": ".py",
   "mimetype": "text/x-python",
   "name": "python",
   "nbconvert_exporter": "python",
   "pygments_lexer": "ipython3",
   "version": "3.9.15"
  },
  "orig_nbformat": 4,
  "vscode": {
   "interpreter": {
    "hash": "bfb7fc808f5fc7153a880fcc5983e91dea281186b761e05f6f2c5040a650e43f"
   }
  }
 },
 "nbformat": 4,
 "nbformat_minor": 2
}
